{
  "nbformat": 4,
  "nbformat_minor": 0,
  "metadata": {
    "colab": {
      "name": "L2_3_Optimizavimas_sucessfull.py",
      "provenance": [],
      "collapsed_sections": [],
      "authorship_tag": "ABX9TyP4I+cKw2HQ/B2wteq7uoCM",
      "include_colab_link": true
    },
    "kernelspec": {
      "name": "python3",
      "display_name": "Python 3"
    }
  },
  "cells": [
    {
      "cell_type": "markdown",
      "metadata": {
        "id": "view-in-github",
        "colab_type": "text"
      },
      "source": [
        "<a href=\"https://colab.research.google.com/github/ignyz/Numerical-methods-and-algorithms/blob/main/L2_3_Optimizavimas_py.ipynb\" target=\"_parent\"><img src=\"https://colab.research.google.com/assets/colab-badge.svg\" alt=\"Open In Colab\"/></a>"
      ]
    },
    {
      "cell_type": "code",
      "metadata": {
        "colab": {
          "base_uri": "https://localhost:8080/",
          "height": 323
        },
        "id": "NRtMiKdbmDux",
        "outputId": "1af48840-f240-4321-de20-dcba2109953d"
      },
      "source": [
        "import numpy as np\r\n",
        "from numpy import linalg as LA\r\n",
        "import numpy \r\n",
        "import math\r\n",
        "import matplotlib.pyplot as plt\r\n",
        "import time\r\n",
        "default_point = [0.,0.]\r\n",
        "n = np.array([   [0.,0.], #O #0\r\n",
        "   [1.,4.], #A #1\r\n",
        "   [3.,4.], #B #2\r\n",
        "   [3.,2.], #C #3 \r\n",
        "    [5.,1.]  #D #4\r\n",
        "])\r\n",
        "n = np.array([   [0.,0.], #O #0\r\n",
        "   [5.,4.], #A #1\r\n",
        "   [-5.,-4.], #B #2\r\n",
        "   [3.,-2.], #C #3 \r\n",
        "    [-9.,4.]  #D #4\r\n",
        "])\r\n",
        "npnt =n.shape[0];iii = 0;itmax = 5000;step = 0.3;n0 = np.zeros((npnt, 2))\r\n",
        "pnt = np.zeros((npnt, 2));costs = np.zeros(npnt - 1);n0 = np.array(n);pnt = np.array(n)\r\n",
        "\r\n",
        "def c(L): # pagaminimo kaina  = C(l) = ( l - a ) ^ 2\r\n",
        "  c = 0.\r\n",
        "  a = 6. # $$$\r\n",
        "  c = (L - a)**2\r\n",
        "  return c\r\n",
        "\r\n",
        "def c(L): # pagaminimo kaina  = C(l) = ( l - a ) ^ 2\r\n",
        "  c = 0.\r\n",
        "  a = 6. # $$$\r\n",
        "  c = (L - a)**2\r\n",
        "  return c\r\n",
        "\r\n",
        "def AB(A,B):\r\n",
        "  l = 0.\r\n",
        "  l = math.sqrt( ((A[0]-B[0])**2)+((A[1]-B[1])**2) )\r\n",
        "  return l\r\n",
        "\r\n",
        "def SUM(X):\r\n",
        "  npnt = X.shape[0]\r\n",
        "  rez = 0.\r\n",
        "  total_len = 0.\r\n",
        "  for i in range(npnt-1):\r\n",
        "    for ii in range(i+1,npnt):\r\n",
        "      length = AB(X[i],X[ii])\r\n",
        "      total_len = total_len + length\r\n",
        "      price = c(length)\r\n",
        "      rez = rez + price\r\n",
        "  return rez\r\n",
        "\r\n",
        "def gradientasF(x):\r\n",
        "    h = 1.145\r\n",
        "    length = x.shape[0]\r\n",
        "    gradientas = np.zeros((length, 2))\r\n",
        "    for i in range(length):\r\n",
        "        last_one = np.array(x)\r\n",
        "        last_one[i] = (x[i, 0] + h, x[i, 1])\r\n",
        "        gradientasX = (SUM(last_one) - SUM(x))/h\r\n",
        "        last_one[i] = (x[i, 0], x[i, 1] + h)\r\n",
        "        gradientasY = (SUM(last_one) - SUM(x)) / h\r\n",
        "        gradientas[i] = (gradientasX, gradientasY)\r\n",
        "    return gradientas\r\n",
        "#animacijos\r\n",
        "plt.plot(n[:,1],n[:,0],'r.')\r\n",
        "plt.xlabel(\"$x$\", fontsize=18)\r\n",
        "plt.ylabel(\"$y$\", rotation=0, fontsize=18)\r\n",
        "_ =plt.axis([-10,10,-10,10])\r\n",
        "#_=plt.axis([-6,6,-6,6])\r\n",
        "\r\n",
        "#plt.plot(n[:,1],n[:,0],'--b')\r\n",
        "#plt.xlabel(\"$x$\", fontsize=18)\r\n",
        "#plt.ylabel(\"$y$\", rotation=0, fontsize=18)\r\n",
        "#_ =plt.axis([-10,10,-10,10])\r\n",
        "\r\n",
        "print(\"Price \", SUM(pnt))\r\n",
        "old_price = SUM(pnt)\r\n",
        "latest_price = -999.\r\n",
        "gradientas = gradientasF(n0)\r\n",
        "\r\n",
        "while iii < itmax and old_price > latest_price  :\r\n",
        "    iii = iii + 1\r\n",
        "    normal = LA.norm(gradientas)\r\n",
        "    deltax = gradientas / normal * step\r\n",
        "    pnt[0] = [0.,0.]\r\n",
        "    old_price = SUM(pnt)\r\n",
        "    length = pnt.shape[0]\r\n",
        "    for i in range(length):\r\n",
        "      pnt[0] = [0.,0.]\r\n",
        "      a = pnt[i, 0] - deltax[i, 0]\r\n",
        "      b = pnt[i, 1] - deltax[i, 1]\r\n",
        "      pnt[i] = [a, b]\r\n",
        "    plt.plot(pnt[:,1],pnt[:,0],'b.')\r\n",
        "    #plt.pause(0.000000000000001)\r\n",
        "    #plt.draw()\r\n",
        "    latest_price = SUM(pnt)\r\n",
        "\r\n",
        "\r\n",
        "print(iii,\"Iteraciju Kaina\", SUM(pnt))\r\n",
        "plt.plot(n[:,1],n[:,0],'r.')\r\n",
        "\r\n",
        "plt.plot(pnt[:,1],pnt[:,0],'g.')\r\n",
        "\r\n",
        "#plt.scatter(pnt[:,1],pnt[:,0], zorder=2)\r\n",
        "#plt.plot(pnt[:,1],pnt[:,0], zorder=1)\r\n",
        "\r\n",
        "\r\n",
        "plt.show()\r\n",
        "\r\n",
        "\r\n"
      ],
      "execution_count": null,
      "outputs": [
        {
          "output_type": "stream",
          "text": [
            "Price  200.01977151726243\n",
            "22 Iteraciju Kaina 35.46097169019791\n"
          ],
          "name": "stdout"
        },
        {
          "output_type": "display_data",
          "data": {
            "image/png": "[encoded data removed]",
            "text/plain": [
              "<Figure size 432x288 with 1 Axes>"
            ]
          },
          "metadata": {
            "tags": [],
            "needs_background": "light"
          }
        }
      ]
    }
  ]
}