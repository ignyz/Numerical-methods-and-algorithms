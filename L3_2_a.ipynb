{
  "nbformat": 4,
  "nbformat_minor": 0,
  "metadata": {
    "colab": {
      "name": "L3_2_a.ipynb",
      "provenance": [],
      "collapsed_sections": [],
      "include_colab_link": true
    },
    "kernelspec": {
      "name": "python3",
      "display_name": "Python 3"
    }
  },
  "cells": [
    {
      "cell_type": "markdown",
      "metadata": {
        "id": "view-in-github",
        "colab_type": "text"
      },
      "source": [
        "<a href=\"https://colab.research.google.com/github/ignyz/Numerical-methods-and-algorithms/blob/main/L3_2_a.ipynb\" target=\"_parent\"><img src=\"https://colab.research.google.com/assets/colab-badge.svg\" alt=\"Open In Colab\"/></a>"
      ]
    },
    {
      "cell_type": "code",
      "metadata": {
        "id": "mAJmfdpA9cve",
        "colab": {
          "base_uri": "https://localhost:8080/",
          "height": 1000
        },
        "outputId": "7afea414-892f-46e9-81c3-95d3500578db"
      },
      "source": [
        "import numpy as np\n",
        "from numpy import linalg as LA\n",
        "import numpy\n",
        "import math\n",
        "import matplotlib.pyplot as plt\n",
        "import time\n",
        "import sympy as sym\n",
        "from numpy import *\n",
        "from matplotlib.pyplot import *\n",
        "def Apsk(a, x, r):\n",
        "    x.astype(float)\n",
        "    n = len(a) - 1\n",
        "    fff = a[n]\n",
        "    for i in range(n - 1, -1, -1):\n",
        "        fff = fff * (r - x[i]) + a[i]\n",
        "    return fff\n",
        "def calculateDistance(x1, y1, x2, y2):\n",
        "    dist = math.sqrt((x2 - x1)**2 + (y2 - y1)**2)\n",
        "    return dist\n",
        "xmin = 1.\n",
        "xmax = 12.\n",
        "N = 12\n",
        "n = N-1\n",
        "deltax = calculateDistance(xmin, 0, xmax, 0) / (N-1)\n",
        "\n",
        "X=zeros(N)\n",
        "Y=zeros(N)\n",
        "Y = np.array([    [-4.6993],    [-1.5529],    [3.55634],    [8.82652],    [12.9486],    [16.9681],    [20.0556],\n",
        "    [18.2434],    [12.343],    [6.23618],    [6.16597],    [-4.406]])\n",
        "\n",
        "X = np.array([\n",
        "    [1],    [2],    [3],    [4],    [5],    [6],    [7],    [8],\n",
        "    [9],    [10],    [11],    [12]])\n",
        "print(Y, \"X\\n\")  # tolygiu interpoliavimo tasku abscises\n",
        "######### Niutono išraiška interpoliuojančiam daugianariui apskaičiuoti\n",
        "F=zeros((N,N), dtype=float)\n",
        "for i in range(0,N):\n",
        "  F[i,0]=Y[i]\n",
        "for j in range(1,N):\n",
        "  for i in range(j,N):\n",
        "    F[i,j] = float(float(F[i,j-1]-F[i-1,j-1]) / float(X[i]-X[i-j]))\n",
        "print(\"F\",F)\n",
        "b=zeros(N, dtype=float)\n",
        "for i in range(0,N):\n",
        "  b[i] = F[i,i]\n",
        "print(\"B\",b)\n",
        "xnow = xmin\n",
        "############ GRAFIKU PAISYMAS ##########\n",
        "t = linspace(1, 12, 500)\n",
        "y1 = zeros(len(t))\n",
        "for i in range(len(t)):\n",
        "    y1[i] = Apsk(b, X, t[i])\n",
        "plot(t, y1, 'r-')\n",
        "xlabel('X')\n",
        "ylabel('Y')\n",
        "legend(['Duota funkcija exp(-x^3)*cos(x^2)*(x-3)', 'Interpoliavimas per tolygiai pasiskyrsciusius taskus',\n",
        "        'Interpoliavimas per Čiobyševo abscisės taškus'])\n",
        "title('Plotting two curves in the same plot')\n",
        "show()"
      ],
      "execution_count": null,
      "outputs": [
        {
          "output_type": "stream",
          "text": [
            "[[-4.6993 ]\n",
            " [-1.5529 ]\n",
            " [ 3.55634]\n",
            " [ 8.82652]\n",
            " [12.9486 ]\n",
            " [16.9681 ]\n",
            " [20.0556 ]\n",
            " [18.2434 ]\n",
            " [12.343  ]\n",
            " [ 6.23618]\n",
            " [ 6.16597]\n",
            " [-4.406  ]] X\n",
            "\n",
            "F [[-4.69930000e+00  0.00000000e+00  0.00000000e+00  0.00000000e+00\n",
            "   0.00000000e+00  0.00000000e+00  0.00000000e+00  0.00000000e+00\n",
            "   0.00000000e+00  0.00000000e+00  0.00000000e+00  0.00000000e+00]\n",
            " [-1.55290000e+00  3.14640000e+00  0.00000000e+00  0.00000000e+00\n",
            "   0.00000000e+00  0.00000000e+00  0.00000000e+00  0.00000000e+00\n",
            "   0.00000000e+00  0.00000000e+00  0.00000000e+00  0.00000000e+00]\n",
            " [ 3.55634000e+00  5.10924000e+00  9.81420000e-01  0.00000000e+00\n",
            "   0.00000000e+00  0.00000000e+00  0.00000000e+00  0.00000000e+00\n",
            "   0.00000000e+00  0.00000000e+00  0.00000000e+00  0.00000000e+00]\n",
            " [ 8.82652000e+00  5.27018000e+00  8.04700000e-02 -3.00316667e-01\n",
            "   0.00000000e+00  0.00000000e+00  0.00000000e+00  0.00000000e+00\n",
            "   0.00000000e+00  0.00000000e+00  0.00000000e+00  0.00000000e+00]\n",
            " [ 1.29486000e+01  4.12208000e+00 -5.74050000e-01 -2.18173333e-01\n",
            "   2.05358333e-02  0.00000000e+00  0.00000000e+00  0.00000000e+00\n",
            "   0.00000000e+00  0.00000000e+00  0.00000000e+00  0.00000000e+00]\n",
            " [ 1.69681000e+01  4.01950000e+00 -5.12900000e-02  1.74253333e-01\n",
            "   9.81066667e-02  1.55141667e-02  0.00000000e+00  0.00000000e+00\n",
            "   0.00000000e+00  0.00000000e+00  0.00000000e+00  0.00000000e+00]\n",
            " [ 2.00556000e+01  3.08750000e+00 -4.66000000e-01 -1.38236667e-01\n",
            "  -7.81225000e-02 -3.52458333e-02 -8.46000000e-03  0.00000000e+00\n",
            "   0.00000000e+00  0.00000000e+00  0.00000000e+00  0.00000000e+00]\n",
            " [ 1.82434000e+01 -1.81220000e+00 -2.44985000e+00 -6.61283333e-01\n",
            "  -1.30761667e-01 -1.05278333e-02  4.11966667e-03  1.79709524e-03\n",
            "   0.00000000e+00  0.00000000e+00  0.00000000e+00  0.00000000e+00]\n",
            " [ 1.23430000e+01 -5.90040000e+00 -2.04410000e+00  1.35250000e-01\n",
            "   1.99133333e-01  6.59790000e-02  1.27511389e-02  1.23306746e-03\n",
            "  -7.05034722e-05  0.00000000e+00  0.00000000e+00  0.00000000e+00]\n",
            " [ 6.23618000e+00 -6.10682000e+00 -1.03210000e-01  6.46963333e-01\n",
            "   1.27928333e-01 -1.42410000e-02 -1.33700000e-02 -3.73159127e-03\n",
            "  -6.20582341e-04 -6.11198743e-05  0.00000000e+00  0.00000000e+00]\n",
            " [ 6.16597000e+00 -7.02100000e-02  3.01830500e+00  1.04050500e+00\n",
            "   9.83854167e-02 -5.90858333e-03  1.38873611e-03  2.10839087e-03\n",
            "   7.29997768e-04  1.50064457e-04  2.11184331e-05  0.00000000e+00]\n",
            " [-4.40600000e+00 -1.05719700e+01 -5.25088000e+00 -2.75639500e+00\n",
            "  -9.49225000e-01 -2.09522083e-01 -3.39355833e-02 -5.04633135e-03\n",
            "  -8.94340278e-04 -1.80482005e-04 -3.30546462e-05 -4.92482539e-06]]\n",
            "B [-4.69930000e+00  3.14640000e+00  9.81420000e-01 -3.00316667e-01\n",
            "  2.05358333e-02  1.55141667e-02 -8.46000000e-03  1.79709524e-03\n",
            " -7.05034722e-05 -6.11198743e-05  2.11184331e-05 -4.92482539e-06]\n"
          ],
          "name": "stdout"
        },
        {
          "output_type": "display_data",
          "data": {
            "image/png": "[encoded data removed]",
            "text/plain": [
              "<Figure size 432x288 with 1 Axes>"
            ]
          },
          "metadata": {
            "tags": []
          }
        }
      ]
    }
  ]
}