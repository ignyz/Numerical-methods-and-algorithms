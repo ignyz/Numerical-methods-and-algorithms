{
  "nbformat": 4,
  "nbformat_minor": 0,
  "metadata": {
    "colab": {
      "name": "L2_1_TiesiniuLygciuSprendimas.ipynb",
      "provenance": [],
      "collapsed_sections": [],
      "include_colab_link": true
    },
    "kernelspec": {
      "name": "python3",
      "display_name": "Python 3"
    },
    "accelerator": "GPU"
  },
  "cells": [
    {
      "cell_type": "markdown",
      "metadata": {
        "id": "view-in-github",
        "colab_type": "text"
      },
      "source": [
        "<a href=\"https://colab.research.google.com/github/ignyz/Numerical-methods-and-algorithms/blob/main/L2_1_TiesiniuLygciuSprendimas.ipynb\" target=\"_parent\"><img src=\"https://colab.research.google.com/assets/colab-badge.svg\" alt=\"Open In Colab\"/></a>"
      ]
    },
    {
      "cell_type": "markdown",
      "metadata": {
        "id": "zhpHdVx1mT9g"
      },
      "source": [
        "![alt text](https://i.ibb.co/981WQxd/1uzd.png)\n",
        "![alt text](https://i.imgur.com/bN7Y61G.png)\n",
        "\n"
      ]
    },
    {
      "cell_type": "code",
      "metadata": {
        "id": "g7byrCNdHez2",
        "colab": {
          "base_uri": "https://localhost:8080/",
          "height": 646
        },
        "outputId": "43aff9e7-f899-44d1-a485-6c71f6f80eae"
      },
      "source": [
        "#!/usr/bin/python\n",
        "# -*- coding: utf-8 -*-\n",
        "import numpy as np\n",
        "import matplotlib.pyplot as plt\n",
        "import math\n",
        "\n",
        "# veiksmai su matricomis (tiesine algebra)\n",
        "A = [[3, 7, 1, 3],\n",
        "     [1, -6, 6, 8], \n",
        "     [4, 4, -7, 1],\n",
        "     [-1, 3, 8, 2]]\n",
        "print(\"Determinantas: \",np.linalg.det(A))\n",
        "print(\"Determinantas yra labai arti 0 tai galima sakyti kad sprendiniu nera\")\n",
        "A = np.array([[3., 7., 1., 3.], [1., -6., 6., 8.], [4., 4., -7., 1.],\n",
        "             [-1., 3., 8., 2.]])\n",
        "\n",
        "A = np.array([[3., 7., 1., 3.], \n",
        "              [1., -6., 6., 8.],\n",
        "              [4., 4., -7., 1.],\n",
        "             [-1., 3., 8., 6.]])\n",
        "\n",
        "#A = np.array([[  1.,   0.,   0.,   0.,   0.,   0.],\n",
        "# [  1.,   1.,   0.,   0.,   0.,   0.],\n",
        "# [  1.,   2.,   2.,   0.,   0.,   0.],\n",
        "# [  1.,  3.,   6. ,  6. ,  0. ,  0.],\n",
        "# [  1. ,  4. , 12. , 24.,  24. ,  0.],\n",
        "# [  1. ,  5. , 20. , 60. ,120. ,120.]])\n",
        "\n",
        "b = np.array([[11.], [3.], [1.], [1.]])# print(A)#\n",
        "#b = np.array([[-7.31342548e-04], [-9.13551146e-02], [-1.47129365e+00], [-3.00000000e+00],\n",
        " #[-7.35646823e-01] ,[-1.82710229e-02]])\n",
        "#print(b)\n",
        "n = A.shape[1]\n",
        "nb = b.shape[1]#print(nb)#print(n)\n",
        "print(b[1])\n",
        "A1 = np.hstack((A, b))#print(A1)\n",
        "for i in range(0, n-1):\n",
        "    for j in range(i + 1, n):        #A1(j,i+1:n+nb)=A1(j,i+1:n+nb)-A1(i,i+1:n+nb)*A1(j,i)/A1(i,i);\n",
        "        A1[j, i + 1:n + nb] = A1[j, i + 1:n + nb] - (A1[i, i + 1:n + nb] * A1[j, i]) / A1[i, i]\n",
        "        A1[j, i] = 0\n",
        "    print(\"\\n\",i,\":--------------------------------------------------------------\\n\")\n",
        "    print(A1)\n",
        "s = (n, nb)\n",
        "x=np.zeros(s)\n",
        "x[n-1] =(A1[n-1,n])/A1[n-1,n-1] \n",
        "for i in range(n-1,-1,-1):\n",
        "  k= 0\n",
        "  for j in range(i+1,n):\n",
        "    k = k + (A1[i,j]*x[j])\n",
        "  x[i] =(A1[i,n]-k)/A1[i,i]\n",
        "if not math.isnan(x[0]):\n",
        "  print(\"Sprendinys x=\\n\", x)  \n",
        "  liekana = np.matmul(A,x)-b\n",
        "  print(\"Sprendinio patikrinimas:\\n\", liekana )\n",
        "  print(\"Bendra santykine paklaida:\\n\",np.linalg.norm(liekana)/np.linalg.norm(x))\n",
        "  print(np.linalg.det(A))\n",
        "else:\n",
        "  print(\"Sprendinių nėra kadangi 0 != 9\")"
      ],
      "execution_count": null,
      "outputs": [
        {
          "output_type": "stream",
          "text": [
            "Determinantas:  2.655653474903371e-13\n",
            "Determinantas yra labai arti 0 tai galima sakyti kad sprendiniu nera\n",
            "[3.]\n",
            "\n",
            " 0 :--------------------------------------------------------------\n",
            "\n",
            "[[  3.           7.           1.           3.          11.        ]\n",
            " [  0.          -8.33333333   5.66666667   7.          -0.66666667]\n",
            " [  0.          -5.33333333  -8.33333333  -3.         -13.66666667]\n",
            " [  0.           5.33333333   8.33333333   7.           4.66666667]]\n",
            "\n",
            " 1 :--------------------------------------------------------------\n",
            "\n",
            "[[  3.           7.           1.           3.          11.        ]\n",
            " [  0.          -8.33333333   5.66666667   7.          -0.66666667]\n",
            " [  0.           0.         -11.96        -7.48       -13.24      ]\n",
            " [  0.           0.          11.96        11.48         4.24      ]]\n",
            "\n",
            " 2 :--------------------------------------------------------------\n",
            "\n",
            "[[  3.           7.           1.           3.          11.        ]\n",
            " [  0.          -8.33333333   5.66666667   7.          -0.66666667]\n",
            " [  0.           0.         -11.96        -7.48       -13.24      ]\n",
            " [  0.           0.           0.           4.          -9.        ]]\n",
            "Sprendinys x=\n",
            " [[ 5.31270903]\n",
            " [-0.10033445]\n",
            " [ 2.51421405]\n",
            " [-2.25      ]]\n",
            "Sprendinio patikrinimas:\n",
            " [[ 0.00000000e+00]\n",
            " [ 0.00000000e+00]\n",
            " [ 4.88498131e-15]\n",
            " [-3.55271368e-15]]\n",
            "Bendra santykine paklaida:\n",
            " 9.5963456924998e-16\n",
            "1195.9999999999998\n"
          ],
          "name": "stdout"
        }
      ]
    }
  ]
}