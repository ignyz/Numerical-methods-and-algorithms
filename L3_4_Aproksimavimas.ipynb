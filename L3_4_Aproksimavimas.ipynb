{
  "nbformat": 4,
  "nbformat_minor": 0,
  "metadata": {
    "colab": {
      "name": "L3_4_Aproksimavimas.ipynb",
      "provenance": [],
      "collapsed_sections": [],
      "include_colab_link": true
    },
    "kernelspec": {
      "name": "python3",
      "display_name": "Python 3"
    }
  },
  "cells": [
    {
      "cell_type": "markdown",
      "metadata": {
        "id": "view-in-github",
        "colab_type": "text"
      },
      "source": [
        "<a href=\"https://colab.research.google.com/github/ignyz/Numerical-methods-and-algorithms/blob/main/L3_4_Aproksimavimas.ipynb\" target=\"_parent\"><img src=\"https://colab.research.google.com/assets/colab-badge.svg\" alt=\"Open In Colab\"/></a>"
      ]
    },
    {
      "cell_type": "code",
      "metadata": {
        "id": "G8Nk8bDX9Tna",
        "colab": {
          "base_uri": "https://localhost:8080/",
          "height": 761
        },
        "outputId": "ce1b8798-3231-4813-c160-40dabd5f0957"
      },
      "source": [
        "import numpy as np\n",
        "from numpy import linalg as LA\n",
        "import numpy\n",
        "import math\n",
        "import matplotlib.pyplot as plt\n",
        "import time\n",
        "import sympy as sym\n",
        "from numpy import *\n",
        "from matplotlib.pyplot import *\n",
        "\n",
        "\n",
        "def base(m, x, nn):\n",
        "    Gj = zeros((nn, m))\n",
        "    for j in range(nn):\n",
        "        for i in range(m):\n",
        "            Gj[j, i] = x[j]**(i)\n",
        "    return Gj\n",
        "\n",
        "\n",
        "m = 2\n",
        "#m = 3\n",
        "m = 4\n",
        "m = 5\n",
        "#m=6\n",
        "xmin = 1.\n",
        "xmax = 12.\n",
        "ymin = -5.\n",
        "ymax = 21.\n",
        "N = 12\n",
        "n = N-1\n",
        "X = zeros(N)\n",
        "Y = zeros(N)\n",
        "\n",
        "Y = np.array([[-4.6993], [-1.5529], [3.55634], [8.82652], [12.9486], [16.9681],\n",
        "              [20.0556], [18.2434], [12.343], [6.23618], [6.16597], [-4.406]])\n",
        "X = np.array([[1], [2], [3], [4], [5], [6], [7], [8], [9], [10], [11], [12]])\n",
        "\n",
        "number = np.floor((ymax-ymin)/2)\n",
        "\n",
        "print(number)\n",
        "\n",
        "G = zeros((N, m))\n",
        "G = base(m, X, N)\n",
        "print(\"G\", G)\n",
        "c1 = G.conj().T @ G\n",
        "\n",
        "c2 = G.conj().T @ Y\n",
        "print(c1)\n",
        "print(c2)\n",
        "c = linalg.lstsq(c1, c2, rcond=None)\n",
        "c = c[0]\n",
        "print(\"c\", c)\n",
        "nnn = 200\n",
        "xx = linspace(xmin, xmax, nnn)\n",
        "xxx = numpy.reshape(xx, (nnn, 1))\n",
        "Gv = zeros((nnn, m))\n",
        "Gv = base(m, xxx, nnn)\n",
        "fff = Gv@c\n",
        "axhline(0, color='k')  # x = 0\n",
        "axvline(0, color='k')  # y = 0\n",
        "grid()\n",
        "plot(xxx, fff, 'r-')\n",
        "plot(X, Y, '.')\n",
        "show()"
      ],
      "execution_count": null,
      "outputs": [
        {
          "output_type": "stream",
          "text": [
            "13.0\n",
            "G [[1.0000e+00 1.0000e+00 1.0000e+00 1.0000e+00 1.0000e+00]\n",
            " [1.0000e+00 2.0000e+00 4.0000e+00 8.0000e+00 1.6000e+01]\n",
            " [1.0000e+00 3.0000e+00 9.0000e+00 2.7000e+01 8.1000e+01]\n",
            " [1.0000e+00 4.0000e+00 1.6000e+01 6.4000e+01 2.5600e+02]\n",
            " [1.0000e+00 5.0000e+00 2.5000e+01 1.2500e+02 6.2500e+02]\n",
            " [1.0000e+00 6.0000e+00 3.6000e+01 2.1600e+02 1.2960e+03]\n",
            " [1.0000e+00 7.0000e+00 4.9000e+01 3.4300e+02 2.4010e+03]\n",
            " [1.0000e+00 8.0000e+00 6.4000e+01 5.1200e+02 4.0960e+03]\n",
            " [1.0000e+00 9.0000e+00 8.1000e+01 7.2900e+02 6.5610e+03]\n",
            " [1.0000e+00 1.0000e+01 1.0000e+02 1.0000e+03 1.0000e+04]\n",
            " [1.0000e+00 1.1000e+01 1.2100e+02 1.3310e+03 1.4641e+04]\n",
            " [1.0000e+00 1.2000e+01 1.4400e+02 1.7280e+03 2.0736e+04]]\n",
            "[[1.2000000e+01 7.8000000e+01 6.5000000e+02 6.0840000e+03 6.0710000e+04]\n",
            " [7.8000000e+01 6.5000000e+02 6.0840000e+03 6.0710000e+04 6.3070800e+05]\n",
            " [6.5000000e+02 6.0840000e+03 6.0710000e+04 6.3070800e+05 6.7359500e+06]\n",
            " [6.0840000e+03 6.0710000e+04 6.3070800e+05 6.7359500e+06 7.3399404e+07]\n",
            " [6.0710000e+04 6.3070800e+05 6.7359500e+06 7.3399404e+07 8.1207191e+08]]\n",
            "[[9.46855100e+01]\n",
            " [6.79460470e+02]\n",
            " [4.98220845e+03]\n",
            " [3.79747372e+04]\n",
            " [2.97737475e+05]]\n",
            "c [[-3.50482402]\n",
            " [-3.85855504]\n",
            " [ 3.1295614 ]\n",
            " [-0.40327375]\n",
            " [ 0.01411651]]\n"
          ],
          "name": "stdout"
        },
        {
          "output_type": "display_data",
          "data": {
            "image/png": "[encoded data removed]",
            "text/plain": [
              "<Figure size 432x288 with 1 Axes>"
            ]
          },
          "metadata": {
            "tags": []
          }
        }
      ]
    }
  ]
}